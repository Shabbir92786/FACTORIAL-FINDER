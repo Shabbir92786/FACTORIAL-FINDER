{
 "cells": [
  {
   "cell_type": "code",
   "execution_count": null,
   "metadata": {},
   "outputs": [],
   "source": [
    "#mini project : factorial finder using PYTHON \n",
    "\n",
    "a = int(input(\"write numer to find factorial\"))\n",
    "\n",
    "def fact(a):\n",
    "    if(a==0):\n",
    "        result=1\n",
    "    else:\n",
    "        result=a*fact(a-1)\n",
    "    return result\n",
    "print(fact(a))"
   ]
  }
 ],
 "metadata": {
  "kernelspec": {
   "display_name": "Python 3",
   "language": "python",
   "name": "python3"
  },
  "language_info": {
   "codemirror_mode": {
    "name": "ipython",
    "version": 3
   },
   "file_extension": ".py",
   "mimetype": "text/x-python",
   "name": "python",
   "nbconvert_exporter": "python",
   "pygments_lexer": "ipython3",
   "version": "3.7.6"
  }
 },
 "nbformat": 4,
 "nbformat_minor": 4
}
